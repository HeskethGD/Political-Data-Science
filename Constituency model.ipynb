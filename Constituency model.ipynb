{
 "cells": [
  {
   "cell_type": "markdown",
   "metadata": {},
   "source": [
    "# Analysing vote flow transfers with Multivariate LSQ Minimization"
   ]
  },
  {
   "cell_type": "code",
   "execution_count": 1,
   "metadata": {
    "scrolled": true
   },
   "outputs": [
    {
     "name": "stdout",
     "output_type": "stream",
     "text": [
      "[(3971, 17), (650, 29), (632, 3)]\n"
     ]
    }
   ],
   "source": [
    "import pandas as pd\n",
    "import numpy as np\n",
    "%matplotlib inline\n",
    "import matplotlib.pyplot as plt\n",
    "pd.options.mode.chained_assignment = None  # default='warn'\n",
    "df15=pd.read_csv('hocl-ge2015-results-full.csv')\n",
    "df17=pd.read_csv('HoC-GE2017-constituency-results.csv')\n",
    "\n",
    "# EU file\n",
    "path = 'C:/Apps/Anaconda3/Python_workGH/'\n",
    "dfEU = pd.read_csv(path + 'Revised estimates of leave vote in Westminster constituencies - demog_based_estimates.csv')\n",
    "dfEU = dfEU[['Constituency','Figure to use']].sort_values('Figure to use').reset_index(drop=True)\n",
    "dfEU.columns = ['constituency_name', 'leave']\n",
    "nsplitsEU = 3\n",
    "dfEU['type'] = [np.floor(nsplitsEU*i/len(dfEU)).astype(int) for i in range(len(dfEU))]\n",
    "dfEU.head()\n",
    "replacements = {'Ynys Môn':'Ynys Mon', 'Stoke-on-Trent Central':'Stoke-On-Trent Central', \n",
    " 'Cities of London and Westminster':'Cities Of London and Westminster',\n",
    " 'Newcastle upon Tyne Central':'Newcastle Upon Tyne Central', 'Na h-Eileanan an Iar':'Na h-Eileanan An Iar',\n",
    " 'Newcastle upon Tyne East':'Newcastle Upon Tyne East', 'Newcastle-under-Lyme':'Newcastle-Under-Lyme', \n",
    " 'Berwick-upon-Tweed':'Berwick-Upon-Tweed', 'Vale of Glamorgan':'Vale Of Glamorgan', \n",
    " 'Stoke-on-Trent North':'Stoke-On-Trent North', 'Forest of Dean':'Forest Of Dean', \n",
    " 'Ashton-under-Lyne':'Ashton-Under-Lyne', 'Vale of Clwyd':'Vale Of Clwyd', \n",
    " 'City of Durham':'City Of Durham', 'Isle of Wight':'Isle Of Wight',\n",
    " 'Newcastle upon Tyne North':'Newcastle Upon Tyne North', \n",
    " 'Stoke-on-Trent South':'Stoke-On-Trent South', 'Stratford-on-Avon':'Stratford-On-Avon', 'City of Chester':'City Of Chester'}\n",
    "for const in dfEU.constituency_name:\n",
    "    if const in replacements.keys():\n",
    "        dfEU.constituency_name.replace(to_replace=const, value=replacements[const], inplace=True)\n",
    "\n",
    "print([df15.shape, df17.shape, dfEU.shape])\n"
   ]
  },
  {
   "cell_type": "code",
   "execution_count": 2,
   "metadata": {},
   "outputs": [
    {
     "data": {
      "text/plain": [
       "<matplotlib.axes._subplots.AxesSubplot at 0x2554f45a90>"
      ]
     },
     "execution_count": 2,
     "metadata": {},
     "output_type": "execute_result"
    },
    {
     "data": {
      "image/png": "[encoded data removed]",
      "text/plain": [
       "<matplotlib.figure.Figure at 0x2554f45278>"
      ]
     },
     "metadata": {},
     "output_type": "display_data"
    }
   ],
   "source": [
    "dfEU.leave.hist()"
   ]
  },
  {
   "cell_type": "code",
   "execution_count": 3,
   "metadata": {
    "scrolled": true
   },
   "outputs": [
    {
     "name": "stdout",
     "output_type": "stream",
     "text": [
      "650\n"
     ]
    }
   ],
   "source": [
    "# Select relevant columns put party results as columns, \n",
    "# put constituency as row indices \n",
    "df15b = pd.pivot_table(\n",
    "    df15[['constituency_name','party_abbreviation','votes']],\n",
    "    index='constituency_name', columns='party_abbreviation', values='votes'\n",
    ")[ ['Con','Lab','LD','UKIP','Green','PC','SNP'] ].replace(np.nan,0)\n",
    "\n",
    "df15b.columns = ['con','lab','ld','ukip','green','snp','pc']\n",
    "df15b = df15b.reset_index()\n",
    "totVotes = df15[['constituency_name','votes']].groupby(['constituency_name']).agg({'votes':{'totalVotes':sum}})['votes'].reset_index()\n",
    "\n",
    "# Take region_name from 2017 file\n",
    "df15b = df15b.merge(df17[['region_name','constituency_name']],\n",
    "                    how='left',on='constituency_name').merge(totVotes,how='left',on='constituency_name')\n",
    "df15b = df15b.sort_values('constituency_name')\n",
    "df15b = df15b.reset_index(drop=True)\n",
    "df15b['others'] = df15b['totalVotes'] - df15b[['con', 'lab', 'ld', 'ukip', 'green','snp','pc']].sum(axis=1)\n",
    "df15b.head()\n",
    "print(len(df15b))\n",
    "# Add EU\n",
    "df15b = df15b.merge(dfEU, how='left',on='constituency_name')\n",
    "#df15b[df15b.leave.isnull()]"
   ]
  },
  {
   "cell_type": "code",
   "execution_count": 4,
   "metadata": {
    "scrolled": true
   },
   "outputs": [
    {
     "data": {
      "text/html": [
       "<div>\n",
       "<table border=\"1\" class=\"dataframe\">\n",
       "  <thead>\n",
       "    <tr style=\"text-align: right;\">\n",
       "      <th></th>\n",
       "      <th>con</th>\n",
       "      <th>lab</th>\n",
       "      <th>ld</th>\n",
       "      <th>ukip</th>\n",
       "      <th>green</th>\n",
       "      <th>snp</th>\n",
       "      <th>pc</th>\n",
       "      <th>constituency_name</th>\n",
       "      <th>region_name</th>\n",
       "      <th>totalVotes</th>\n",
       "      <th>others</th>\n",
       "      <th>leave</th>\n",
       "      <th>type</th>\n",
       "    </tr>\n",
       "  </thead>\n",
       "  <tbody>\n",
       "    <tr>\n",
       "      <th>0</th>\n",
       "      <td>5901</td>\n",
       "      <td>22662</td>\n",
       "      <td>599</td>\n",
       "      <td>1345</td>\n",
       "      <td>0</td>\n",
       "      <td>0</td>\n",
       "      <td>2761</td>\n",
       "      <td>Aberavon</td>\n",
       "      <td>Wales</td>\n",
       "      <td>33268</td>\n",
       "      <td>0</td>\n",
       "      <td>0.599655</td>\n",
       "      <td>2.0</td>\n",
       "    </tr>\n",
       "    <tr>\n",
       "      <th>1</th>\n",
       "      <td>14337</td>\n",
       "      <td>13702</td>\n",
       "      <td>941</td>\n",
       "      <td>0</td>\n",
       "      <td>0</td>\n",
       "      <td>0</td>\n",
       "      <td>3170</td>\n",
       "      <td>Aberconwy</td>\n",
       "      <td>Wales</td>\n",
       "      <td>32150</td>\n",
       "      <td>0</td>\n",
       "      <td>0.533838</td>\n",
       "      <td>1.0</td>\n",
       "    </tr>\n",
       "    <tr>\n",
       "      <th>2</th>\n",
       "      <td>8341</td>\n",
       "      <td>11031</td>\n",
       "      <td>1693</td>\n",
       "      <td>0</td>\n",
       "      <td>0</td>\n",
       "      <td>15170</td>\n",
       "      <td>0</td>\n",
       "      <td>Aberdeen North</td>\n",
       "      <td>Scotland</td>\n",
       "      <td>36757</td>\n",
       "      <td>522</td>\n",
       "      <td>0.430998</td>\n",
       "      <td>0.0</td>\n",
       "    </tr>\n",
       "    <tr>\n",
       "      <th>3</th>\n",
       "      <td>18746</td>\n",
       "      <td>9143</td>\n",
       "      <td>2610</td>\n",
       "      <td>0</td>\n",
       "      <td>0</td>\n",
       "      <td>13994</td>\n",
       "      <td>0</td>\n",
       "      <td>Aberdeen South</td>\n",
       "      <td>Scotland</td>\n",
       "      <td>44493</td>\n",
       "      <td>0</td>\n",
       "      <td>0.323257</td>\n",
       "      <td>0.0</td>\n",
       "    </tr>\n",
       "    <tr>\n",
       "      <th>4</th>\n",
       "      <td>8813</td>\n",
       "      <td>14096</td>\n",
       "      <td>802</td>\n",
       "      <td>0</td>\n",
       "      <td>0</td>\n",
       "      <td>14291</td>\n",
       "      <td>0</td>\n",
       "      <td>Airdrie and Shotts</td>\n",
       "      <td>Scotland</td>\n",
       "      <td>38002</td>\n",
       "      <td>0</td>\n",
       "      <td>0.400513</td>\n",
       "      <td>0.0</td>\n",
       "    </tr>\n",
       "  </tbody>\n",
       "</table>\n",
       "</div>"
      ],
      "text/plain": [
       "     con    lab    ld  ukip  green    snp    pc   constituency_name  \\\n",
       "0   5901  22662   599  1345      0      0  2761            Aberavon   \n",
       "1  14337  13702   941     0      0      0  3170           Aberconwy   \n",
       "2   8341  11031  1693     0      0  15170     0      Aberdeen North   \n",
       "3  18746   9143  2610     0      0  13994     0      Aberdeen South   \n",
       "4   8813  14096   802     0      0  14291     0  Airdrie and Shotts   \n",
       "\n",
       "  region_name  totalVotes  others     leave  type  \n",
       "0       Wales       33268       0  0.599655   2.0  \n",
       "1       Wales       32150       0  0.533838   1.0  \n",
       "2    Scotland       36757     522  0.430998   0.0  \n",
       "3    Scotland       44493       0  0.323257   0.0  \n",
       "4    Scotland       38002       0  0.400513   0.0  "
      ]
     },
     "execution_count": 4,
     "metadata": {},
     "output_type": "execute_result"
    }
   ],
   "source": [
    "df17b = df17[['con', 'lab', 'ld', 'ukip', 'green','snp','pc','constituency_name','region_name']]\n",
    "df17b['totalVotes'] = df17['valid_votes']\n",
    "df17b['others'] = df17b['totalVotes']-df17b[['con', 'lab', 'ld', 'ukip', 'green','snp','pc']].sum(axis=1)\n",
    "df17b = df17b.sort_values('constituency_name')\n",
    "df17b = df17b.reset_index(drop=True)\n",
    "# Add EU\n",
    "df17b = df17b.merge(dfEU, how='left',on='constituency_name')\n",
    "df17b.head()"
   ]
  },
  {
   "cell_type": "code",
   "execution_count": 5,
   "metadata": {},
   "outputs": [
    {
     "name": "stdout",
     "output_type": "stream",
     "text": [
      "533\n",
      "533\n"
     ]
    }
   ],
   "source": [
    "X15 = df15b[~df15b.region_name.isin(['Wales','Scotland','Northern Ireland']) ][['con', 'lab', 'ld', 'ukip', 'green','others']]\n",
    "print(len(X15))\n",
    "X17 = df17b[~df17b.region_name.isin(['Wales','Scotland','Northern Ireland']) ][['con', 'lab', 'ld', 'ukip', 'green','others']]\n",
    "print(len(X17))"
   ]
  },
  {
   "cell_type": "code",
   "execution_count": 6,
   "metadata": {
    "collapsed": true
   },
   "outputs": [],
   "source": [
    "Parties=['con', 'lab', 'ld', 'ukip', 'green','others']\n",
    "Colors=['blue','red','yellow','purple','green','black']"
   ]
  },
  {
   "cell_type": "code",
   "execution_count": 7,
   "metadata": {
    "collapsed": true
   },
   "outputs": [],
   "source": [
    "remainers = list(df15b[~df15b.region_name.isin(['Wales','Scotland','Northern Ireland']) ].type==0)\n",
    "undecideds = list(df15b[~df15b.region_name.isin(['Wales','Scotland','Northern Ireland']) ].type==1)\n",
    "leavers = list(df15b[~df15b.region_name.isin(['Wales','Scotland','Northern Ireland']) ].type==2)"
   ]
  },
  {
   "cell_type": "code",
   "execution_count": 8,
   "metadata": {},
   "outputs": [
    {
     "ename": "NameError",
     "evalue": "name 'Xx' is not defined",
     "output_type": "error",
     "traceback": [
      "\u001b[1;31m---------------------------------------------------------------------------\u001b[0m",
      "\u001b[1;31mNameError\u001b[0m                                 Traceback (most recent call last)",
      "\u001b[1;32m<ipython-input-8-0f9b08af6f75>\u001b[0m in \u001b[0;36m<module>\u001b[1;34m()\u001b[0m\n\u001b[1;32m----> 1\u001b[1;33m \u001b[0mXx\u001b[0m\u001b[1;33m[\u001b[0m\u001b[0moutliers_indices\u001b[0m\u001b[1;33m]\u001b[0m\u001b[1;33m\u001b[0m\u001b[0m\n\u001b[0m",
      "\u001b[1;31mNameError\u001b[0m: name 'Xx' is not defined"
     ]
    }
   ],
   "source": [
    "Xx[outliers_indices]"
   ]
  },
  {
   "cell_type": "markdown",
   "metadata": {},
   "source": [
    "## Constrained Multivariate LSQ Minimization for Voter Flow Matrices"
   ]
  },
  {
   "cell_type": "code",
   "execution_count": 94,
   "metadata": {
    "collapsed": true
   },
   "outputs": [],
   "source": [
    "def res_squares_2d(x, X, Y, xshape, Yshape):\n",
    "    \"\"\" Sum of squared residuals \"\"\"\n",
    "    Y = np.reshape(Y,Yshape) \n",
    "    x = np.reshape(x,xshape)\n",
    "    return sum(sum((np.dot(np.array(X), x)-Y)**2))"
   ]
  },
  {
   "cell_type": "code",
   "execution_count": 259,
   "metadata": {},
   "outputs": [
    {
     "name": "stdout",
     "output_type": "stream",
     "text": [
      "(61, 7) (61, 6)\n",
      "(61, 7) (61, 6)\n",
      "(7, 6)\n"
     ]
    }
   ],
   "source": [
    "from scipy.optimize import minimize\n",
    "#seats = [np.argmax(np.array(X15),axis=1)==0]\n",
    "seats = [True for i in range(X15.shape[0])]\n",
    "#seats = outliers\n",
    "seats = remainers\n",
    "Xx = np.c_[np.array(X15[seats]), np.ones(X15[seats].shape[0])]\n",
    "Yy = np.array(X17[seats])\n",
    "#Xx = Xx[[i for i in range(Yy.shape[0]) if i not in outliers_indices ]]\n",
    "#Yy = Yy[[i for i in range(Yy.shape[0]) if i not in outliers_indices ]]\n",
    "Norm = max([Xx.max(),Yy.max()])\n",
    "Xnorm = Xx/Norm\n",
    "Ynorm = Yy/Norm\n",
    "W0norm = np.random.random( (len(Xnorm[1]), len(Ynorm[1])) )\n",
    "print(Xx.shape,Yy.shape)\n",
    "print(Xnorm.shape,Ynorm.shape)\n",
    "print(W0norm.shape)"
   ]
  },
  {
   "cell_type": "code",
   "execution_count": 260,
   "metadata": {
    "scrolled": false
   },
   "outputs": [
    {
     "name": "stdout",
     "output_type": "stream",
     "text": [
      "Optimization terminated successfully.    (Exit mode 0)\n",
      "            Current function value: 0.18218291881232304\n",
      "            Iterations: 20\n",
      "            Function evaluations: 883\n",
      "            Gradient evaluations: 20\n",
      "[[ 0.97  0.    0.01  0.    0.02  0.  ]\n",
      " [ 0.    1.    0.    0.    0.    0.  ]\n",
      " [ 0.09  0.    0.91  0.    0.    0.  ]\n",
      " [ 0.31  0.69  0.    0.    0.    0.  ]\n",
      " [ 0.    1.    0.    0.    0.    0.  ]\n",
      " [ 0.    1.    0.    0.    0.    0.  ]\n",
      " [ 0.37  0.64  0.94  0.67  0.46  0.12]]\n",
      "[ 1.   1.   1.   1.   1.   1.   3.2]\n",
      "[[ True  True  True  True  True  True]\n",
      " [ True  True  True  True  True  True]\n",
      " [ True  True  True  True  True  True]\n",
      " [ True  True  True  True  True  True]\n",
      " [ True  True  True  True  True  True]\n",
      " [ True  True  True  True  True  True]\n",
      " [ True  True  True  True  True  True]]\n"
     ]
    }
   ],
   "source": [
    "bnds = tuple([     (0,None) for i in range(W0norm.size)\n",
    "])\n",
    "cons1 = tuple([    {'type': 'eq','fun' : lambda x: np.array(sum(x[0:(7-1)*6:6])-1)},\n",
    "                   {'type': 'eq','fun' : lambda x: np.array(sum(x[1:(7-1)*6:6])-1)},\n",
    "                   {'type': 'eq','fun' : lambda x: np.array(sum(x[2:(7-1)*6:6])-1)},\n",
    "                   {'type': 'eq','fun' : lambda x: np.array(sum(x[3:(7-1)*6:6])-1)},\n",
    "                   {'type': 'eq','fun' : lambda x: np.array(sum(x[4:(7-1)*6:6])-1)},\n",
    "                   {'type': 'eq','fun' : lambda x: np.array(sum(x[5:(7-1)*6:6])-1)} \n",
    "])\n",
    "cons2 = tuple([    {'type': 'eq','fun' : lambda x: np.array(sum(x[0*6:(0+1)*6])-1)},\n",
    "                   {'type': 'eq','fun' : lambda x: np.array(sum(x[1*6:(1+1)*6])-1)},\n",
    "                   {'type': 'eq','fun' : lambda x: np.array(sum(x[2*6:(2+1)*6])-1)},\n",
    "                   {'type': 'eq','fun' : lambda x: np.array(sum(x[3*6:(3+1)*6])-1)},\n",
    "                   {'type': 'eq','fun' : lambda x: np.array(sum(x[4*6:(4+1)*6])-1)},\n",
    "                   {'type': 'eq','fun' : lambda x: np.array(sum(x[5*6:(5+1)*6])-1)} \n",
    "])\n",
    "cons3 = tuple([    {'type': 'ineq','fun' : lambda x: np.array(1-sum(x[0*6:(0+1)*6]))},\n",
    "                   {'type': 'ineq','fun' : lambda x: np.array(1-sum(x[1*6:(1+1)*6]))},\n",
    "                   {'type': 'ineq','fun' : lambda x: np.array(1-sum(x[2*6:(2+1)*6]))},\n",
    "                   {'type': 'ineq','fun' : lambda x: np.array(1-sum(x[3*6:(3+1)*6]))},\n",
    "                   {'type': 'ineq','fun' : lambda x: np.array(1-sum(x[4*6:(4+1)*6]))},\n",
    "                   {'type': 'ineq','fun' : lambda x: np.array(1-sum(x[5*6:(5+1)*6]))} \n",
    "])\n",
    "cons = cons3\n",
    "res = minimize(res_squares_2d, W0norm, args=(Xnorm,Ynorm,W0norm.shape,Ynorm.shape), method='SLSQP',\n",
    "               options={'disp': True}, bounds=bnds, constraints=cons)\n",
    "\n",
    "Wbnd = np.reshape(res.x,W0norm.shape)\n",
    "print(np.around(Wbnd,decimals=2))\n",
    "if cons == cons1:\n",
    "    print(sum(Wbnd[0:-1]))\n",
    "if cons == cons2 or cons == cons3:\n",
    "    print(sum(np.around(Wbnd,decimals=2).T))\n",
    "print(0<=Wbnd)\n",
    "\n",
    "Ypreds = Norm*np.dot(np.array(Xnorm), Wbnd)"
   ]
  },
  {
   "cell_type": "code",
   "execution_count": 261,
   "metadata": {
    "scrolled": false
   },
   "outputs": [
    {
     "data": {
      "text/plain": [
       "<matplotlib.text.Text at 0x88b17b2ba8>"
      ]
     },
     "execution_count": 261,
     "metadata": {},
     "output_type": "execute_result"
    },
    {
     "data": {
      "image/png": "[encoded data removed]",
      "text/plain": [
       "<matplotlib.figure.Figure at 0x88a77c8550>"
      ]
     },
     "metadata": {},
     "output_type": "display_data"
    }
   ],
   "source": [
    "from sklearn.metrics import r2_score\n",
    "\n",
    "plt.figure(figsize=(16,12))\n",
    "plt.subplot(3,2,1)\n",
    "plt.plot(Xx[:,0], Yy[:,0],'.',c='blue')\n",
    "plt.plot(Xx[:,0], Ypreds[:,0],'*',c='blue')\n",
    "plt.plot([0,40000],[0,40000])\n",
    "plt.title('Con R^2 = %s'%r2_score(Ypreds[:,0],Yy[:,0]))\n",
    "plt.subplot(3,2,2)\n",
    "plt.plot(Xx[:,1], Yy[:,1],'.',c='red')\n",
    "plt.plot(Xx[:,1], Ypreds[:,1],'*',c='red')\n",
    "plt.plot([0,40000],[0,40000],c='red')\n",
    "plt.title('Lab R^2 = %s'%r2_score(Ypreds[:,1],Yy[:,1]))\n",
    "plt.subplot(3,2,3)\n",
    "plt.plot(Xx[:,2], Yy[:,2],'.',c='orange')\n",
    "plt.plot(Xx[:,2], Ypreds[:,2],'*',c='orange')\n",
    "plt.plot([0,40000],[0,40000],c='orange')\n",
    "plt.title('Lib Dem R^2 = %s'%r2_score(Ypreds[:,2],Yy[:,2]))\n",
    "plt.subplot(3,2,4)\n",
    "plt.plot(Xx[:,3], Yy[:,3],'.',c='purple')\n",
    "plt.plot(Xx[:,3], Ypreds[:,3],'*',c='purple')\n",
    "plt.plot([0,40000],[0,40000],c='purple')\n",
    "plt.title('Ukip R^2 = %s'%r2_score(Ypreds[:,3],Yy[:,3]))\n",
    "plt.subplot(3,2,5)\n",
    "plt.plot(Xx[:,4], Yy[:,4],'.',c='green')\n",
    "plt.plot(Xx[:,4], Ypreds[:,4],'*',c='green')\n",
    "plt.plot([0,40000],[0,40000],c='green')\n",
    "plt.title('Green R^2 = %s'%r2_score(Ypreds[:,4],Yy[:,4]))\n",
    "plt.subplot(3,2,6)\n",
    "plt.plot(Xx[:,5], Yy[:,5],'.',c='white')\n",
    "plt.plot(Xx[:,5], Ypreds[:,5],'*',c='white')\n",
    "plt.plot([0,40000],[0,40000],c='white')\n",
    "plt.title('Others R^2 = %s'%r2_score(Ypreds[:,5],Yy[:,5]))"
   ]
  },
  {
   "cell_type": "code",
   "execution_count": 262,
   "metadata": {},
   "outputs": [
    {
     "name": "stdout",
     "output_type": "stream",
     "text": [
      "['Errors for unchanged: 5 (0.0819672131148)', 'Errors for pred: 2 (0.0327868852459)']\n"
     ]
    }
   ],
   "source": [
    "winner15 = np.argmax(np.array(Xx),axis=1)\n",
    "winner17 = np.argmax(np.array(Yy),axis=1)\n",
    "winner17Pred = np.argmax(Ypreds,axis=1)\n",
    "\n",
    "seatChanges=[winner15[ii]!=winner17[ii] for ii in range(len(Xx))]\n",
    "seatErrsSame=sum(seatChanges)\n",
    "seatErrsPred=sum([winner17[ii]!=winner17Pred[ii] for ii in range(len(Xx))])\n",
    "print(['Errors for unchanged: '+str(seatErrsSame)+' ('+str(seatErrsSame/len(Xx))+')',\n",
    "       'Errors for pred: '+str(seatErrsPred)+' ('+str(seatErrsPred/len(Xx))+')'])"
   ]
  },
  {
   "cell_type": "markdown",
   "metadata": {},
   "source": [
    "#### Outliers"
   ]
  },
  {
   "cell_type": "code",
   "execution_count": 263,
   "metadata": {
    "scrolled": true
   },
   "outputs": [
    {
     "data": {
      "text/plain": [
       "3"
      ]
     },
     "execution_count": 263,
     "metadata": {},
     "output_type": "execute_result"
    }
   ],
   "source": [
    "outlier_threshold = 0.05\n",
    "outliers_indices = np.argsort(sum(((Ypreds - Yy)**2).T))[-np.floor(outlier_threshold*Yy.shape[0]).astype(int):]\n",
    "outliers = [i not in outliers_indices for i in range(Yy.shape[0])]\n",
    "len(outliers_indices)"
   ]
  },
  {
   "cell_type": "markdown",
   "metadata": {},
   "source": [
    "## Vote shares main parties"
   ]
  },
  {
   "cell_type": "code",
   "execution_count": 9,
   "metadata": {},
   "outputs": [
    {
     "data": {
      "text/html": [
       "<div>\n",
       "<table border=\"1\" class=\"dataframe\">\n",
       "  <thead>\n",
       "    <tr style=\"text-align: right;\">\n",
       "      <th></th>\n",
       "      <th>con</th>\n",
       "      <th>lab</th>\n",
       "      <th>ld</th>\n",
       "      <th>ukip</th>\n",
       "      <th>green</th>\n",
       "    </tr>\n",
       "  </thead>\n",
       "  <tbody>\n",
       "    <tr>\n",
       "      <th>0</th>\n",
       "      <td>50.592107</td>\n",
       "      <td>18.332576</td>\n",
       "      <td>8.824230</td>\n",
       "      <td>17.867117</td>\n",
       "      <td>4.383971</td>\n",
       "    </tr>\n",
       "    <tr>\n",
       "      <th>1</th>\n",
       "      <td>52.310433</td>\n",
       "      <td>22.480916</td>\n",
       "      <td>3.384224</td>\n",
       "      <td>19.722646</td>\n",
       "      <td>2.101781</td>\n",
       "    </tr>\n",
       "    <tr>\n",
       "      <th>2</th>\n",
       "      <td>52.994042</td>\n",
       "      <td>26.686066</td>\n",
       "      <td>8.383317</td>\n",
       "      <td>8.011165</td>\n",
       "      <td>3.925411</td>\n",
       "    </tr>\n",
       "    <tr>\n",
       "      <th>3</th>\n",
       "      <td>43.979264</td>\n",
       "      <td>34.781372</td>\n",
       "      <td>2.974823</td>\n",
       "      <td>15.886869</td>\n",
       "      <td>2.377671</td>\n",
       "    </tr>\n",
       "    <tr>\n",
       "      <th>4</th>\n",
       "      <td>60.787577</td>\n",
       "      <td>11.197479</td>\n",
       "      <td>7.192308</td>\n",
       "      <td>14.437736</td>\n",
       "      <td>6.384900</td>\n",
       "    </tr>\n",
       "  </tbody>\n",
       "</table>\n",
       "</div>"
      ],
      "text/plain": [
       "         con        lab        ld       ukip     green\n",
       "0  50.592107  18.332576  8.824230  17.867117  4.383971\n",
       "1  52.310433  22.480916  3.384224  19.722646  2.101781\n",
       "2  52.994042  26.686066  8.383317   8.011165  3.925411\n",
       "3  43.979264  34.781372  2.974823  15.886869  2.377671\n",
       "4  60.787577  11.197479  7.192308  14.437736  6.384900"
      ]
     },
     "execution_count": 9,
     "metadata": {},
     "output_type": "execute_result"
    }
   ],
   "source": [
    "dfR15=df15b[(~df15b.region_name.isin(['Scotland','Wales','Northern Ireland']))&(df15b.constituency_name!='Buckingham')\n",
    "      ][['con', 'lab', 'ld', 'ukip', 'green']]\n",
    "dfR15[\"total5party\"] = dfR15.sum(axis=1)\n",
    "dfR15 = dfR15.loc[:,'con':'green'].div(dfR15[\"total5party\"], axis=0)*100\n",
    "dfR15=dfR15.reset_index(drop=True)\n",
    "dfR15.head()"
   ]
  },
  {
   "cell_type": "code",
   "execution_count": 10,
   "metadata": {},
   "outputs": [
    {
     "data": {
      "text/html": [
       "<div>\n",
       "<table border=\"1\" class=\"dataframe\">\n",
       "  <thead>\n",
       "    <tr style=\"text-align: right;\">\n",
       "      <th></th>\n",
       "      <th>con</th>\n",
       "      <th>lab</th>\n",
       "      <th>ld</th>\n",
       "      <th>ukip</th>\n",
       "      <th>green</th>\n",
       "    </tr>\n",
       "  </thead>\n",
       "  <tbody>\n",
       "    <tr>\n",
       "      <th>0</th>\n",
       "      <td>55.056180</td>\n",
       "      <td>31.617978</td>\n",
       "      <td>7.430031</td>\n",
       "      <td>3.669050</td>\n",
       "      <td>2.226762</td>\n",
       "    </tr>\n",
       "    <tr>\n",
       "      <th>1</th>\n",
       "      <td>66.339803</td>\n",
       "      <td>30.274767</td>\n",
       "      <td>3.385430</td>\n",
       "      <td>0.000000</td>\n",
       "      <td>0.000000</td>\n",
       "    </tr>\n",
       "    <tr>\n",
       "      <th>2</th>\n",
       "      <td>51.309748</td>\n",
       "      <td>39.067650</td>\n",
       "      <td>7.717513</td>\n",
       "      <td>0.000000</td>\n",
       "      <td>1.905088</td>\n",
       "    </tr>\n",
       "    <tr>\n",
       "      <th>3</th>\n",
       "      <td>57.235970</td>\n",
       "      <td>38.897481</td>\n",
       "      <td>2.430402</td>\n",
       "      <td>0.000000</td>\n",
       "      <td>1.436147</td>\n",
       "    </tr>\n",
       "    <tr>\n",
       "      <th>4</th>\n",
       "      <td>62.355616</td>\n",
       "      <td>22.719729</td>\n",
       "      <td>7.937799</td>\n",
       "      <td>2.768189</td>\n",
       "      <td>4.218667</td>\n",
       "    </tr>\n",
       "  </tbody>\n",
       "</table>\n",
       "</div>"
      ],
      "text/plain": [
       "         con        lab        ld      ukip     green\n",
       "0  55.056180  31.617978  7.430031  3.669050  2.226762\n",
       "1  66.339803  30.274767  3.385430  0.000000  0.000000\n",
       "2  51.309748  39.067650  7.717513  0.000000  1.905088\n",
       "3  57.235970  38.897481  2.430402  0.000000  1.436147\n",
       "4  62.355616  22.719729  7.937799  2.768189  4.218667"
      ]
     },
     "execution_count": 10,
     "metadata": {},
     "output_type": "execute_result"
    }
   ],
   "source": [
    "dfR17=df17b[(~df17b.region_name.isin(['Scotland','Wales','Northern Ireland']))&(df17b.constituency_name!='Buckingham')\n",
    "      ][['con', 'lab', 'ld', 'ukip', 'green']]\n",
    "dfR17[\"total5party\"] = dfR17.sum(axis=1)\n",
    "dfR17 = dfR17.loc[:,'con':'green'].div(dfR17[\"total5party\"], axis=0)*100\n",
    "dfR17=dfR17.reset_index(drop=True)\n",
    "dfR17.head()"
   ]
  },
  {
   "cell_type": "code",
   "execution_count": 11,
   "metadata": {},
   "outputs": [
    {
     "data": {
      "text/plain": [
       "[(532, 5), (532, 5)]"
      ]
     },
     "execution_count": 11,
     "metadata": {},
     "output_type": "execute_result"
    }
   ],
   "source": [
    "[dfR17.shape,dfR15.shape]"
   ]
  },
  {
   "cell_type": "markdown",
   "metadata": {},
   "source": [
    "## PCA"
   ]
  },
  {
   "cell_type": "code",
   "execution_count": null,
   "metadata": {
    "collapsed": true
   },
   "outputs": [],
   "source": [
    "from sklearn.decomposition import PCA"
   ]
  },
  {
   "cell_type": "code",
   "execution_count": null,
   "metadata": {
    "collapsed": true,
    "scrolled": true
   },
   "outputs": [],
   "source": [
    "Ncomps=2\n",
    "pca = PCA(n_components=Ncomps)\n",
    "\n",
    "data=dfR15.append(dfR17).reset_index(drop=True)\n",
    "dfPCA=pd.DataFrame(pca.fit_transform(data))\n",
    "dfRec=pd.DataFrame(pca.inverse_transform(dfPCA))\n",
    "dfPCA['winner']=data.idxmax(axis=1)\n",
    "\n",
    "pca_score = pca.explained_variance_ratio_\n",
    "\n",
    "dfPCA15, dfPCA17 = dfPCA[0:len(dfR15)], dfPCA[len(dfR15):].reset_index(drop=True)\n",
    "\n",
    "dfPCA.head()"
   ]
  },
  {
   "cell_type": "code",
   "execution_count": null,
   "metadata": {
    "collapsed": true
   },
   "outputs": [],
   "source": [
    "pca_score"
   ]
  },
  {
   "cell_type": "code",
   "execution_count": null,
   "metadata": {
    "collapsed": true,
    "scrolled": false
   },
   "outputs": [],
   "source": [
    "parties=['con','lab','ld','ukip','green']\n",
    "colors=['blue','red','yellow','purple','green']\n",
    "\n",
    "if Ncomps==2:\n",
    "    plt.figure(figsize=(16, 12), facecolor='w', edgecolor='k')\n",
    "    plt.subplot(1,2,1)\n",
    "    for i in range(len(parties)):\n",
    "        selectSeats=dfPCA17.winner==parties[i]\n",
    "        plt.subplot(1,2,1)\n",
    "        plt.title('2015 positions')\n",
    "        plt.scatter(dfPCA15[selectSeats][0], dfPCA15[selectSeats][1], \n",
    "                   c=colors[i])\n",
    "        plt.axis([-50, 70, -30, 50])\n",
    "        plt.grid()\n",
    "        plt.subplot(1,2,2)\n",
    "        plt.title('2017 positions')\n",
    "        plt.scatter(dfPCA17[selectSeats][0], dfPCA17[selectSeats][1], \n",
    "                   c=colors[i])\n",
    "        plt.axis([-50, 70, -30, 50])\n",
    "        plt.grid()    \n",
    "        \n",
    "    selectSeats=(~df15b.region_name.isin(['Scotland','Wales','Northern Ireland']))&(\n",
    "    df15b.constituency_name!='Buckingham')&(df17b.ukip!=0)&(df15b.ukip!=0)\n",
    "    plt.scatter(dfPCA17[selectSeats][(dfPCA15[selectSeats].winner!=dfPCA17[selectSeats].winner)][0],\n",
    "            dfPCA17[selectSeats][(dfPCA15[selectSeats].winner!=dfPCA17[selectSeats].winner)][1],c='black')\n",
    "if Ncomps==3:\n",
    "    from mpl_toolkits.mplot3d import Axes3D\n",
    "    fig = plt.figure( figsize=(16, 8), facecolor='w', edgecolor='k')\n",
    "    ax1 = fig.add_subplot(1,2,1, projection='3d')\n",
    "    ax2 = fig.add_subplot(1,2,2, projection='3d')\n",
    "    for i in range(len(parties)):\n",
    "        ax1.scatter(xs=dfPCA15[dfPCA17.winner==parties[i]][0], ys=dfPCA15[dfPCA17.winner==parties[i]][1], \n",
    "                   zs=dfPCA15[dfPCA17.winner==parties[i]][1], zdir='z', c=colors[i], depthshade=True)\n",
    "        ax2.scatter(xs=dfPCA17[dfPCA17.winner==parties[i]][0], ys=dfPCA17[dfPCA17.winner==parties[i]][1], \n",
    "                   zs=dfPCA17[dfPCA17.winner==parties[i]][1], zdir='z', c=colors[i], depthshade=True)\n",
    "\n",
    "\n",
    "    \n"
   ]
  },
  {
   "cell_type": "code",
   "execution_count": null,
   "metadata": {
    "collapsed": true
   },
   "outputs": [],
   "source": [
    "\n",
    "#dfPCA17[selectSeats][(dfPCA15[selectSeats].winner!=dfPCA17[selectSeats].winner)]\n",
    "#(dfPCA15.winner!=dfPCA17.winner)[selectSeats]"
   ]
  },
  {
   "cell_type": "code",
   "execution_count": null,
   "metadata": {
    "collapsed": true,
    "scrolled": false
   },
   "outputs": [],
   "source": [
    "#plt.figure()\n",
    "if Ncomps==2:\n",
    "\n",
    "    Changes=dfPCA17[[0,1]]-dfPCA15[[0,1]]\n",
    "    U, V = Changes[0], Changes[1]\n",
    "    X, Y = dfPCA17[0], dfPCA17[1]\n",
    "    #plt.quiver(X, Y, U, V, units='width')\n",
    "\n",
    "    fig = plt.figure(figsize=(16, 12), facecolor='w', edgecolor='k')\n",
    "    ax = fig.add_subplot(111)\n",
    "    for i in range(len(parties)):\n",
    "        \n",
    "        if i==0: # seats that changed hands in black\n",
    "            selectSeats=(~df15b.region_name.isin(['Scotland','Wales','Northern Ireland']))&(\n",
    "            df15b.constituency_name!='Buckingham')&(df17b.ukip!=0)&(df15b.ukip!=0)\n",
    "            \n",
    "            ax.quiver(dfPCA15[selectSeats][(dfPCA15[selectSeats].winner!=dfPCA17[selectSeats].winner)][0],\n",
    "                dfPCA15[selectSeats][(dfPCA15[selectSeats].winner!=dfPCA17[selectSeats].winner)][1],\n",
    "                Changes[selectSeats][(dfPCA15[selectSeats].winner!=dfPCA17[selectSeats].winner)][0],\n",
    "                Changes[selectSeats][(dfPCA15[selectSeats].winner!=dfPCA17[selectSeats].winner)][1],\n",
    "                color='black',alpha=0.35,scale=1,units='xy')\n",
    "        \n",
    "        selectSeats=dfPCA17.winner==parties[i]\n",
    "        ax.quiver(dfPCA15[selectSeats][0], dfPCA15[selectSeats][1],\n",
    "                  Changes[selectSeats][0], Changes[selectSeats][1],\n",
    "                  color=colors[i],alpha=0.25,scale=1,units='xy')\n",
    "        \n",
    "        plt.xlim(-40, 65)\n",
    "        plt.ylim(-20, 45)\n",
    "        plt.gca().set_aspect('equal', adjustable='box')\n",
    "        plt.grid()\n",
    "\n",
    "        \n",
    "if Ncomps==3:\n",
    "    \n",
    "    Changes=dfPCA17[[0,1,2]]-dfPCA15[[0,1,2]]\n",
    "    fig = plt.figure(figsize=(16, 12), facecolor='w', edgecolor='k')\n",
    "    #ax = fig.add_subplot(111)\n",
    "    ax = fig.gca(projection='3d')\n",
    "    for i in range(len(parties)):\n",
    "        ax.quiver(dfPCA15[dfPCA17.winner==parties[i]][0], dfPCA15[dfPCA17.winner==parties[i]][1], \n",
    "                  dfPCA15[dfPCA17.winner==parties[i]][2],\n",
    "                  Changes[dfPCA17.winner==parties[i]][0], Changes[dfPCA17.winner==parties[i]][1],\n",
    "                  Changes[dfPCA17.winner==parties[i]][2],length=20,\n",
    "                  color=colors[i])\n",
    "        #plt.xlim(-40, 65)\n",
    "        #plt.ylim(-20, 45)\n",
    "        #plt.zlim(-50, 55)\n",
    "        plt.gca().set_aspect('equal', adjustable='box')\n",
    "        plt.grid()\n",
    "    "
   ]
  },
  {
   "cell_type": "code",
   "execution_count": null,
   "metadata": {
    "collapsed": true
   },
   "outputs": [],
   "source": [
    "#plt.figure()\n",
    "if Ncomps==2:\n",
    "\n",
    "    Changes=dfPCA17[[0,1]]-dfPCA15[[0,1]]\n",
    "    U, V = Changes[0], Changes[1]\n",
    "    X, Y = dfPCA17[0], dfPCA17[1]\n",
    "    #plt.quiver(X, Y, U, V, units='width')\n",
    "\n",
    "    fig = plt.figure(figsize=(16, 12), facecolor='w', edgecolor='k')\n",
    "    ax = fig.add_subplot(111)\n",
    "    for i in range(len(parties)):\n",
    "        selectSeats=dfPCA17.winner==parties[i]\n",
    "        ax.quiver(0*dfPCA15[selectSeats][0], 0*dfPCA15[selectSeats][1],\n",
    "                  Changes[selectSeats][0], Changes[selectSeats][1],\n",
    "                  color=colors[i],alpha=0.25,scale=1,units='xy')\n",
    "        plt.xlim(-20, 40)\n",
    "        plt.ylim(-40, 30)\n",
    "        plt.gca().set_aspect('equal', adjustable='box')\n",
    "        plt.grid()"
   ]
  },
  {
   "cell_type": "code",
   "execution_count": null,
   "metadata": {
    "collapsed": true
   },
   "outputs": [],
   "source": [
    "selectSeats=dfPCA17.winner==parties[1]\n",
    "H=np.angle(Changes[selectSeats][0]+1j*Changes[selectSeats][1])\n",
    "plt.figure()\n",
    "plt.hist(H,bins=50)"
   ]
  },
  {
   "cell_type": "code",
   "execution_count": null,
   "metadata": {
    "collapsed": true
   },
   "outputs": [],
   "source": []
  },
  {
   "cell_type": "code",
   "execution_count": null,
   "metadata": {
    "collapsed": true
   },
   "outputs": [],
   "source": [
    "# https://stackoverflow.com/questions/32750915/pca-inverse-transform-manually"
   ]
  },
  {
   "cell_type": "code",
   "execution_count": null,
   "metadata": {
    "collapsed": true
   },
   "outputs": [],
   "source": [
    "pca.components_\n"
   ]
  },
  {
   "cell_type": "code",
   "execution_count": null,
   "metadata": {
    "collapsed": true
   },
   "outputs": [],
   "source": [
    "np.dot(np.array(dfR17.iloc[0]) - pca.mean_, pca.components_.T) "
   ]
  },
  {
   "cell_type": "code",
   "execution_count": null,
   "metadata": {
    "collapsed": true
   },
   "outputs": [],
   "source": [
    "xx=np.dot(np.array(dfR17-pca.mean_),pca.components_.T) \n",
    "xx"
   ]
  },
  {
   "cell_type": "code",
   "execution_count": null,
   "metadata": {
    "collapsed": true
   },
   "outputs": [],
   "source": [
    "np.array(dfPCA17[[0,1]])"
   ]
  },
  {
   "cell_type": "code",
   "execution_count": null,
   "metadata": {
    "collapsed": true
   },
   "outputs": [],
   "source": [
    "pca.transform(np.array(dfR17.iloc[0]).reshape(1, -1))"
   ]
  },
  {
   "cell_type": "code",
   "execution_count": null,
   "metadata": {
    "collapsed": true
   },
   "outputs": [],
   "source": [
    "np.dot(np.array([-14.98041246,  -2.42408367]), pca.components_) + pca.mean_"
   ]
  },
  {
   "cell_type": "code",
   "execution_count": null,
   "metadata": {
    "collapsed": true
   },
   "outputs": [],
   "source": [
    "pca.mean_"
   ]
  },
  {
   "cell_type": "code",
   "execution_count": null,
   "metadata": {
    "collapsed": true
   },
   "outputs": [],
   "source": [
    "dfR17.mean()"
   ]
  },
  {
   "cell_type": "code",
   "execution_count": null,
   "metadata": {
    "collapsed": true
   },
   "outputs": [],
   "source": [
    "np.dot(np.array([1,  0]), pca.components_) + pca.mean_"
   ]
  },
  {
   "cell_type": "code",
   "execution_count": null,
   "metadata": {
    "collapsed": true
   },
   "outputs": [],
   "source": [
    "np.dot(np.array([0,  1]), pca.components_) + pca.mean_"
   ]
  },
  {
   "cell_type": "code",
   "execution_count": null,
   "metadata": {
    "collapsed": true
   },
   "outputs": [],
   "source": [
    "pca.transform(np.array([ 44.77697428,  43.0435873 ,   8.29434709,   2.09773841,   1.78735293]))"
   ]
  },
  {
   "cell_type": "code",
   "execution_count": null,
   "metadata": {
    "collapsed": true
   },
   "outputs": [],
   "source": [
    "np.dot(pca.components_[0],pca.components_[1].T)"
   ]
  },
  {
   "cell_type": "code",
   "execution_count": null,
   "metadata": {
    "collapsed": true
   },
   "outputs": [],
   "source": [
    "U"
   ]
  },
  {
   "cell_type": "code",
   "execution_count": null,
   "metadata": {
    "collapsed": true
   },
   "outputs": [],
   "source": [
    "Changes"
   ]
  },
  {
   "cell_type": "code",
   "execution_count": null,
   "metadata": {
    "collapsed": true
   },
   "outputs": [],
   "source": [
    "\n",
    "fig = plt.figure()\n",
    "ax = fig.add_subplot(111)\n",
    "ax.quiver(1,1,1,2,scale=1,units='xy')\n",
    "plt.xlim(0, 7)\n",
    "plt.ylim(0, 7)\n",
    "plt.gca().set_aspect('equal', adjustable='box')\n",
    "plt.grid()\n",
    "\n"
   ]
  },
  {
   "cell_type": "code",
   "execution_count": null,
   "metadata": {
    "collapsed": true
   },
   "outputs": [],
   "source": [
    "u = v = np.zeros((11,11))\n",
    "u[5,5] = 0.2"
   ]
  },
  {
   "cell_type": "code",
   "execution_count": null,
   "metadata": {
    "collapsed": true
   },
   "outputs": [],
   "source": [
    "u"
   ]
  },
  {
   "cell_type": "code",
   "execution_count": null,
   "metadata": {
    "collapsed": true
   },
   "outputs": [],
   "source": [
    "np.argmin(Changes[0])"
   ]
  },
  {
   "cell_type": "code",
   "execution_count": null,
   "metadata": {
    "collapsed": true
   },
   "outputs": [],
   "source": [
    "dfPCA17.iloc[148]"
   ]
  },
  {
   "cell_type": "code",
   "execution_count": null,
   "metadata": {
    "collapsed": true
   },
   "outputs": [],
   "source": [
    "dfPCA15.iloc[148]"
   ]
  },
  {
   "cell_type": "code",
   "execution_count": null,
   "metadata": {
    "collapsed": true
   },
   "outputs": [],
   "source": [
    "dfR15.iloc[148]"
   ]
  },
  {
   "cell_type": "code",
   "execution_count": null,
   "metadata": {
    "collapsed": true
   },
   "outputs": [],
   "source": [
    "dfR17.iloc[148]"
   ]
  },
  {
   "cell_type": "code",
   "execution_count": null,
   "metadata": {
    "collapsed": true
   },
   "outputs": [],
   "source": []
  }
 ],
 "metadata": {
  "anaconda-cloud": {},
  "kernelspec": {
   "display_name": "Python [default]",
   "language": "python",
   "name": "python3"
  },
  "language_info": {
   "codemirror_mode": {
    "name": "ipython",
    "version": 3
   },
   "file_extension": ".py",
   "mimetype": "text/x-python",
   "name": "python",
   "nbconvert_exporter": "python",
   "pygments_lexer": "ipython3",
   "version": "3.5.2"
  }
 },
 "nbformat": 4,
 "nbformat_minor": 1
}
